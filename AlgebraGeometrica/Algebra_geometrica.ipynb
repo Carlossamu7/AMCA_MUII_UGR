{
 "cells": [
  {
   "cell_type": "markdown",
   "metadata": {},
   "source": [
    "## AMCA - Álgebra geométrica (Carlos Sánchez Muñoz)"
   ]
  },
  {
   "cell_type": "code",
   "execution_count": 1,
   "metadata": {},
   "outputs": [],
   "source": [
    "C = ComplexField(200)"
   ]
  },
  {
   "cell_type": "markdown",
   "metadata": {},
   "source": [
    "### Ejercicio 3.1 \n",
    "\n",
    "Calcula el destino final del vector $(2,3)$ tras rotarlo $\\pi/3$ radianes respecto del origen de coordenadas."
   ]
  },
  {
   "cell_type": "code",
   "execution_count": 2,
   "metadata": {},
   "outputs": [
    {
     "data": {
      "text/plain": [
       "2.0000000000000000000000000000000000000000000000000000000000 + 3.0000000000000000000000000000000000000000000000000000000000*I"
      ]
     },
     "execution_count": 2,
     "metadata": {},
     "output_type": "execute_result"
    }
   ],
   "source": [
    "p = C(2,3)\n",
    "p"
   ]
  },
  {
   "cell_type": "code",
   "execution_count": 3,
   "metadata": {},
   "outputs": [
    {
     "data": {
      "text/plain": [
       "-1.5980762113533159402911695122588085504142078807155709420837 + 3.2320508075688772935274463415058723669428052538103806280558*I"
      ]
     },
     "execution_count": 3,
     "metadata": {},
     "output_type": "execute_result"
    }
   ],
   "source": [
    "p*C(exp(I*pi/3))"
   ]
  },
  {
   "cell_type": "markdown",
   "metadata": {},
   "source": [
    "### Ejercicio 3.2\n",
    "\n",
    "Calcula el destino final del vector $(2 1)$ tras rotarlo 3 radianes respecto del punto $(1/2,1)$"
   ]
  },
  {
   "cell_type": "code",
   "execution_count": 4,
   "metadata": {},
   "outputs": [
    {
     "data": {
      "text/plain": [
       "2.0000000000000000000000000000000000000000000000000000000000 + 1.0000000000000000000000000000000000000000000000000000000000*I"
      ]
     },
     "execution_count": 4,
     "metadata": {},
     "output_type": "execute_result"
    }
   ],
   "source": [
    "p = C(2,1)\n",
    "centro = C(1/2,1) \n",
    "p"
   ]
  },
  {
   "cell_type": "code",
   "execution_count": 5,
   "metadata": {},
   "outputs": [
    {
     "data": {
      "text/plain": [
       "1.2500000000000000000000000000000000000000000000000000000000 + 2.2990381056766579701455847561294042752071039403577854710419*I"
      ]
     },
     "execution_count": 5,
     "metadata": {},
     "output_type": "execute_result"
    }
   ],
   "source": [
    "(p-centro)*C(exp(I*pi/3)) + centro"
   ]
  },
  {
   "cell_type": "markdown",
   "metadata": {},
   "source": [
    "### Ejercicio 3.3\n",
    "\n",
    "Calcula el simétrico del punto $(1,0)$ respecto del eje que pasa por el origen de coordenadas y sigue la dirección del vector $(1,2)$."
   ]
  },
  {
   "cell_type": "code",
   "execution_count": 6,
   "metadata": {},
   "outputs": [
    {
     "data": {
      "text/plain": [
       "1.0000000000000000000000000000000000000000000000000000000000"
      ]
     },
     "execution_count": 6,
     "metadata": {},
     "output_type": "execute_result"
    }
   ],
   "source": [
    "p = C(1,0)\n",
    "u = C(1,2)\n",
    "p"
   ]
  },
  {
   "cell_type": "code",
   "execution_count": 7,
   "metadata": {},
   "outputs": [
    {
     "data": {
      "text/plain": [
       "-0.60000000000000000000000000000000000000000000000000000000000 + 0.80000000000000000000000000000000000000000000000000000000000*I"
      ]
     },
     "execution_count": 7,
     "metadata": {},
     "output_type": "execute_result"
    }
   ],
   "source": [
    "(p*C(exp(-u.argument()*I))).conjugate()*C(exp(u.argument()*I))"
   ]
  },
  {
   "cell_type": "markdown",
   "metadata": {},
   "source": [
    "### Ejercicio 3.4\n",
    "\n",
    "Calcula el simétrico del punto $(-1,1)$ respecto del eje que pasa por el punto $(1,0)$ y sigue la dirección del\n",
    "vector $(1,1)$."
   ]
  },
  {
   "cell_type": "code",
   "execution_count": 8,
   "metadata": {},
   "outputs": [
    {
     "data": {
      "text/plain": [
       "-1.0000000000000000000000000000000000000000000000000000000000 + 1.0000000000000000000000000000000000000000000000000000000000*I"
      ]
     },
     "execution_count": 8,
     "metadata": {},
     "output_type": "execute_result"
    }
   ],
   "source": [
    "p = C(-1,1)\n",
    "centro = C(1,0)\n",
    "u = C(1,1)\n",
    "p"
   ]
  },
  {
   "cell_type": "code",
   "execution_count": 9,
   "metadata": {},
   "outputs": [
    {
     "data": {
      "text/plain": [
       "2.0000000000000000000000000000000000000000000000000000000000 - 2.0000000000000000000000000000000000000000000000000000000000*I"
      ]
     },
     "execution_count": 9,
     "metadata": {},
     "output_type": "execute_result"
    }
   ],
   "source": [
    "((p-centro)*C(exp(-u.argument()*I))).conjugate()*C(exp(u.argument()*I)) + centro"
   ]
  },
  {
   "cell_type": "markdown",
   "metadata": {},
   "source": [
    "### Ejercicio 3.5\n",
    "\n",
    "Calcula el punto obtenido a partir del punto $(2,1,1)$ después de realizar un giro de ángulo $4\\pi/3$ radianes respecto del eje que pasa por el origen de coordenadas y tiene por vector director $(1,0,-1)$."
   ]
  },
  {
   "cell_type": "code",
   "execution_count": 10,
   "metadata": {},
   "outputs": [],
   "source": [
    "theta = RealField(200)(4*pi/3)\n",
    "eje = (1,0,-1)\n",
    "punto = (2,1,1)"
   ]
  },
  {
   "cell_type": "code",
   "execution_count": 11,
   "metadata": {},
   "outputs": [
    {
     "data": {
      "text/plain": [
       "Quaternion Algebra (-1.0000000000000, -1.0000000000000) with base ring Real Field with 50 bits of precision"
      ]
     },
     "execution_count": 11,
     "metadata": {},
     "output_type": "execute_result"
    }
   ],
   "source": [
    "H.<i,j,k> = QuaternionAlgebra(RealField(50),-1,-1); H"
   ]
  },
  {
   "cell_type": "code",
   "execution_count": 12,
   "metadata": {},
   "outputs": [
    {
     "data": {
      "text/plain": [
       "0.70710678118655*i - 0.70710678118655*k"
      ]
     },
     "execution_count": 12,
     "metadata": {},
     "output_type": "execute_result"
    }
   ],
   "source": [
    "r = RR((eje[0]^2 + eje[1]^2 + eje[2]^2).sqrt())\n",
    "u = r^(-1)*H(eje[0]*i + eje[1]*j + eje[2]*k)\n",
    "u"
   ]
  },
  {
   "cell_type": "code",
   "execution_count": 13,
   "metadata": {},
   "outputs": [
    {
     "data": {
      "text/plain": [
       "-0.50000000000000 + 0.61237243569579*i - 0.61237243569579*k"
      ]
     },
     "execution_count": 13,
     "metadata": {},
     "output_type": "execute_result"
    }
   ],
   "source": [
    "q = H(cos(theta/2) + sin(theta/2)*u)\n",
    "q"
   ]
  },
  {
   "cell_type": "code",
   "execution_count": 14,
   "metadata": {},
   "outputs": [],
   "source": [
    "v = H(punto[0]*i + punto[1]*j + punto[2]*k)"
   ]
  },
  {
   "cell_type": "markdown",
   "metadata": {},
   "source": [
    "Solución:"
   ]
  },
  {
   "cell_type": "code",
   "execution_count": 15,
   "metadata": {
    "scrolled": true
   },
   "outputs": [
    {
     "data": {
      "text/plain": [
       "-0.86237243569579*i + 1.3371173070874*j - 1.8623724356958*k"
      ]
     },
     "execution_count": 15,
     "metadata": {},
     "output_type": "execute_result"
    }
   ],
   "source": [
    "q*v*q.conjugate()"
   ]
  },
  {
   "cell_type": "markdown",
   "metadata": {},
   "source": [
    "### Ejercicio 3.6\n",
    "\n",
    "Calcula el punto obtenido a partir del punto $(0,0,0)$ después de realizar un giro de ángulo $2\\pi/3$ radianes respecto del eje que pasa por el punto $(1,0,-1)$ y tiene por vector director $(0,1,1)$."
   ]
  },
  {
   "cell_type": "code",
   "execution_count": 16,
   "metadata": {},
   "outputs": [],
   "source": [
    "theta = RealField(200)(2*pi/3)\n",
    "centro = (1,0,-1)\n",
    "eje = (0,1,1)\n",
    "punto = (0,0,0)"
   ]
  },
  {
   "cell_type": "code",
   "execution_count": 17,
   "metadata": {},
   "outputs": [
    {
     "data": {
      "text/plain": [
       "0.70710678118655*j + 0.70710678118655*k"
      ]
     },
     "execution_count": 17,
     "metadata": {},
     "output_type": "execute_result"
    }
   ],
   "source": [
    "r = RR((eje[0]^2 + eje[1]^2 + eje[2]^2).sqrt())\n",
    "u = r^(-1)*H(eje[0]*i + eje[1]*j + eje[2]*k)\n",
    "u"
   ]
  },
  {
   "cell_type": "code",
   "execution_count": 18,
   "metadata": {},
   "outputs": [
    {
     "data": {
      "text/plain": [
       "0.50000000000000 + 0.61237243569579*j + 0.61237243569579*k"
      ]
     },
     "execution_count": 18,
     "metadata": {},
     "output_type": "execute_result"
    }
   ],
   "source": [
    "q = H(cos(theta/2) + sin(theta/2)*u)\n",
    "q"
   ]
  },
  {
   "cell_type": "code",
   "execution_count": 19,
   "metadata": {},
   "outputs": [
    {
     "data": {
      "text/plain": [
       "-i + k"
      ]
     },
     "execution_count": 19,
     "metadata": {},
     "output_type": "execute_result"
    }
   ],
   "source": [
    "v = H(punto[0]*i + punto[1]*j + punto[2]*k)\n",
    "cen = H(centro[0]*i + centro[1]*j + centro[2]*k)\n",
    "w = v - cen\n",
    "w"
   ]
  },
  {
   "cell_type": "markdown",
   "metadata": {},
   "source": [
    "Solución:"
   ]
  },
  {
   "cell_type": "code",
   "execution_count": 20,
   "metadata": {},
   "outputs": [
    {
     "data": {
      "text/plain": [
       "2.1123724356958*i + 0.13762756430421*j - 0.13762756430421*k"
      ]
     },
     "execution_count": 20,
     "metadata": {},
     "output_type": "execute_result"
    }
   ],
   "source": [
    "q*w*q.conjugate() + cen"
   ]
  },
  {
   "cell_type": "markdown",
   "metadata": {},
   "source": [
    "### Ejercicio 3.7\n",
    "\n",
    "Calcula, utilizando el producto escalar, el ángulo que forman tres parejas aleatorias de vectores de dimensiones $2$, $3$ y $5$."
   ]
  },
  {
   "cell_type": "code",
   "execution_count": 21,
   "metadata": {},
   "outputs": [],
   "source": [
    "# Por defecto lo devuelve en radianes\n",
    "def angulo(a,b):\n",
    "    return(arccos(a.dot_product(b)/(a.norm()*b.norm())))"
   ]
  },
  {
   "cell_type": "code",
   "execution_count": 22,
   "metadata": {},
   "outputs": [
    {
     "data": {
      "text/html": [
       "<html><script type=\"math/tex; mode=display\">\\newcommand{\\Bold}[1]{\\mathbf{#1}}\\left(0.903753719012338,\\,0.333296594718600\\right)</script></html>"
      ],
      "text/latex": [
       "\\begin{math}\n",
       "\\newcommand{\\Bold}[1]{\\mathbf{#1}}\\left(0.903753719012338,\\,0.333296594718600\\right)\n",
       "\\end{math}"
      ],
      "text/plain": [
       "(0.903753719012338, 0.333296594718600)"
      ]
     },
     "metadata": {},
     "output_type": "display_data"
    },
    {
     "data": {
      "text/html": [
       "<html><script type=\"math/tex; mode=display\">\\newcommand{\\Bold}[1]{\\mathbf{#1}}\\left(-0.321828256355856,\\,-0.291553165706745\\right)</script></html>"
      ],
      "text/latex": [
       "\\begin{math}\n",
       "\\newcommand{\\Bold}[1]{\\mathbf{#1}}\\left(-0.321828256355856,\\,-0.291553165706745\\right)\n",
       "\\end{math}"
      ],
      "text/plain": [
       "(-0.321828256355856, -0.291553165706745)"
      ]
     },
     "metadata": {},
     "output_type": "display_data"
    },
    {
     "data": {
      "text/plain": [
       "2.75882858870302"
      ]
     },
     "execution_count": 22,
     "metadata": {},
     "output_type": "execute_result"
    }
   ],
   "source": [
    "a = vector((RR.random_element(), RR.random_element()))\n",
    "b = vector((RR.random_element(), RR.random_element()))\n",
    "show(a); show(b)\n",
    "angulo(a,b)"
   ]
  },
  {
   "cell_type": "code",
   "execution_count": 23,
   "metadata": {},
   "outputs": [
    {
     "data": {
      "text/html": [
       "<html><script type=\"math/tex; mode=display\">\\newcommand{\\Bold}[1]{\\mathbf{#1}}\\left(-0.376281344243712,\\,0.232590322397758,\\,0.769175347969758\\right)</script></html>"
      ],
      "text/latex": [
       "\\begin{math}\n",
       "\\newcommand{\\Bold}[1]{\\mathbf{#1}}\\left(-0.376281344243712,\\,0.232590322397758,\\,0.769175347969758\\right)\n",
       "\\end{math}"
      ],
      "text/plain": [
       "(-0.376281344243712, 0.232590322397758, 0.769175347969758)"
      ]
     },
     "metadata": {},
     "output_type": "display_data"
    },
    {
     "data": {
      "text/html": [
       "<html><script type=\"math/tex; mode=display\">\\newcommand{\\Bold}[1]{\\mathbf{#1}}\\left(0.750009391868575,\\,-0.306659908128915,\\,-0.563941672236859\\right)</script></html>"
      ],
      "text/latex": [
       "\\begin{math}\n",
       "\\newcommand{\\Bold}[1]{\\mathbf{#1}}\\left(0.750009391868575,\\,-0.306659908128915,\\,-0.563941672236859\\right)\n",
       "\\end{math}"
      ],
      "text/plain": [
       "(0.750009391868575, -0.306659908128915, -0.563941672236859)"
      ]
     },
     "metadata": {},
     "output_type": "display_data"
    },
    {
     "data": {
      "text/plain": [
       "2.68781405911752"
      ]
     },
     "execution_count": 23,
     "metadata": {},
     "output_type": "execute_result"
    }
   ],
   "source": [
    "a = vector((RR.random_element(), RR.random_element(), RR.random_element()))\n",
    "b = vector((RR.random_element(), RR.random_element(), RR.random_element()))\n",
    "show(a); show(b)\n",
    "angulo(a,b)"
   ]
  },
  {
   "cell_type": "code",
   "execution_count": 24,
   "metadata": {},
   "outputs": [
    {
     "data": {
      "text/html": [
       "<html><script type=\"math/tex; mode=display\">\\newcommand{\\Bold}[1]{\\mathbf{#1}}\\left(0.299999530679322,\\,0.834542891574372,\\,-0.966764692251416,\\,-0.909500965841288,\\,-0.00602870615653117\\right)</script></html>"
      ],
      "text/latex": [
       "\\begin{math}\n",
       "\\newcommand{\\Bold}[1]{\\mathbf{#1}}\\left(0.299999530679322,\\,0.834542891574372,\\,-0.966764692251416,\\,-0.909500965841288,\\,-0.00602870615653117\\right)\n",
       "\\end{math}"
      ],
      "text/plain": [
       "(0.299999530679322, 0.834542891574372, -0.966764692251416, -0.909500965841288, -0.00602870615653117)"
      ]
     },
     "metadata": {},
     "output_type": "display_data"
    },
    {
     "data": {
      "text/html": [
       "<html><script type=\"math/tex; mode=display\">\\newcommand{\\Bold}[1]{\\mathbf{#1}}\\left(0.0499601559526044,\\,0.759782270025066,\\,-0.213039021673793,\\,-0.284749494384066,\\,0.464959604624530\\right)</script></html>"
      ],
      "text/latex": [
       "\\begin{math}\n",
       "\\newcommand{\\Bold}[1]{\\mathbf{#1}}\\left(0.0499601559526044,\\,0.759782270025066,\\,-0.213039021673793,\\,-0.284749494384066,\\,0.464959604624530\\right)\n",
       "\\end{math}"
      ],
      "text/plain": [
       "(0.0499601559526044, 0.759782270025066, -0.213039021673793, -0.284749494384066, 0.464959604624530)"
      ]
     },
     "metadata": {},
     "output_type": "display_data"
    },
    {
     "data": {
      "text/plain": [
       "0.760100547169434"
      ]
     },
     "execution_count": 24,
     "metadata": {},
     "output_type": "execute_result"
    }
   ],
   "source": [
    "a = vector((RR.random_element(), RR.random_element(), RR.random_element(), RR.random_element(), RR.random_element()))\n",
    "b = vector((RR.random_element(), RR.random_element(), RR.random_element(), RR.random_element(), RR.random_element()))\n",
    "show(a); show(b)\n",
    "angulo(a,b)"
   ]
  },
  {
   "cell_type": "markdown",
   "metadata": {},
   "source": [
    "### Ejercicio 3.8\n",
    "\n",
    "Implementa el cálculo del producto vectorial a partir de la estructura vectorial en los cuaternios de Hamilton. Con\n",
    "dicha estructura, verifica para cinco parejas de vectores aleatorios las propiedades anticonmutativa y distributiva."
   ]
  },
  {
   "cell_type": "code",
   "execution_count": 25,
   "metadata": {},
   "outputs": [],
   "source": [
    "H.<i,j,k> = QuaternionAlgebra(RealField(50),-1,-1)\n",
    "def prod_vectorial(a,b):\n",
    "    sol = (a[0]*i+a[1]*j+a[2]*k)*(b[0]*i+b[1]*j+b[2]*k)\n",
    "    return(vector((sol[1],sol[2],sol[3])))"
   ]
  },
  {
   "cell_type": "code",
   "execution_count": 26,
   "metadata": {},
   "outputs": [
    {
     "data": {
      "text/plain": [
       "(0.924424946748245, 0.438220121303997, -0.900263824734318, 0.897450185787066)"
      ]
     },
     "execution_count": 26,
     "metadata": {},
     "output_type": "execute_result"
    }
   ],
   "source": [
    "a = vector((RR.random_element(), RR.random_element(), RR.random_element(), RR.random_element()))\n",
    "a"
   ]
  },
  {
   "cell_type": "code",
   "execution_count": 27,
   "metadata": {},
   "outputs": [
    {
     "data": {
      "text/plain": [
       "(0.174380418816006, -0.584031545617311, -0.439564849009290, -0.288060187019971)"
      ]
     },
     "execution_count": 27,
     "metadata": {},
     "output_type": "execute_result"
    }
   ],
   "source": [
    "b = vector((RR.random_element(), RR.random_element(), RR.random_element(), RR.random_element()))\n",
    "b"
   ]
  },
  {
   "cell_type": "code",
   "execution_count": 28,
   "metadata": {},
   "outputs": [
    {
     "data": {
      "text/plain": [
       "(0.779924663425018, 0.530520593117247, -0.0873576314125810, -0.400297176756358)"
      ]
     },
     "execution_count": 28,
     "metadata": {},
     "output_type": "execute_result"
    }
   ],
   "source": [
    "c = vector((RR.random_element(), RR.random_element(), RR.random_element(), RR.random_element()))\n",
    "c"
   ]
  },
  {
   "cell_type": "markdown",
   "metadata": {},
   "source": [
    "**Propiedad anticonmutativa:**"
   ]
  },
  {
   "cell_type": "code",
   "execution_count": 29,
   "metadata": {},
   "outputs": [
    {
     "data": {
      "text/plain": [
       "(-0.71840863447676, 0.24935632933574, -0.61631033874317)"
      ]
     },
     "execution_count": 29,
     "metadata": {},
     "output_type": "execute_result"
    }
   ],
   "source": [
    "prod_vectorial(a,b)"
   ]
  },
  {
   "cell_type": "code",
   "execution_count": 30,
   "metadata": {},
   "outputs": [
    {
     "data": {
      "text/plain": [
       "(-0.71840863447676, 0.24935632933574, -0.61631033874317)"
      ]
     },
     "execution_count": 30,
     "metadata": {},
     "output_type": "execute_result"
    }
   ],
   "source": [
    "prod_vectorial(-b,a)"
   ]
  },
  {
   "cell_type": "markdown",
   "metadata": {},
   "source": [
    "**Propiedad distributiva:**"
   ]
  },
  {
   "cell_type": "code",
   "execution_count": 31,
   "metadata": {},
   "outputs": [
    {
     "data": {
      "text/plain": [
       "(-0.27908200805116, -0.37202605739726, -0.46766254831600)"
      ]
     },
     "execution_count": 31,
     "metadata": {},
     "output_type": "execute_result"
    }
   ],
   "source": [
    "prod_vectorial(a,b+c)"
   ]
  },
  {
   "cell_type": "code",
   "execution_count": 32,
   "metadata": {},
   "outputs": [
    {
     "data": {
      "text/plain": [
       "(-0.27908200805116, -0.37202605739726, -0.46766254831600)"
      ]
     },
     "execution_count": 32,
     "metadata": {},
     "output_type": "execute_result"
    }
   ],
   "source": [
    "prod_vectorial(a,b)+prod_vectorial(a,c)"
   ]
  },
  {
   "cell_type": "markdown",
   "metadata": {},
   "source": [
    "### Ejercicio 3.9\n",
    "\n",
    "Demuestra las propiedades Asociativa, Distributiva, Linealidad y Módulo del producto geométrico."
   ]
  },
  {
   "cell_type": "markdown",
   "metadata": {},
   "source": [
    "Resuelto en el pdf."
   ]
  },
  {
   "cell_type": "markdown",
   "metadata": {},
   "source": [
    "### Ejercicio 3.10\n",
    "\n",
    "Implementa el álgebra de Clifford de dimensión 3 tal y como se describe en la teoría. Compara el resultado de tu implementación con el generado por SageMath para cinco vectores aleatorios."
   ]
  },
  {
   "cell_type": "markdown",
   "metadata": {},
   "source": [
    "**Álgebra de Clifford de orden 2 (dimensión 4)**"
   ]
  },
  {
   "cell_type": "code",
   "execution_count": 33,
   "metadata": {},
   "outputs": [],
   "source": [
    "# Álgebra de Clifford con {e1,e2}, de dimensión 4\n",
    "def Clifford_2(a, b):\n",
    "    return(vector((\n",
    "        a[0]*b[0]+a[1]*b[1]+a[2]*b[2]-a[3]*b[3],\n",
    "        a[0]*b[1]+a[0]*b[0]+a[3]*b[2]-a[2]*b[3],\n",
    "        a[2]*b[0]+a[0]*b[2]-a[3]*b[1]+a[1]*b[3],\n",
    "        a[3]*b[0]+a[0]*b[3]+a[1]*b[2]-a[2]*b[1]\n",
    "    )))"
   ]
  },
  {
   "cell_type": "code",
   "execution_count": 34,
   "metadata": {},
   "outputs": [
    {
     "data": {
      "text/plain": [
       "4"
      ]
     },
     "execution_count": 34,
     "metadata": {},
     "output_type": "execute_result"
    }
   ],
   "source": [
    "Q = QuadraticForm(RR, 2)\n",
    "Cl.<x,y> = CliffordAlgebra(Q)\n",
    "Cl.dimension()"
   ]
  },
  {
   "cell_type": "markdown",
   "metadata": {},
   "source": [
    "Definidas ambas álgebras de Clifford comprobemos si son iguales.\n",
    "Los elementos de las mismas los he de definir de forma diferente."
   ]
  },
  {
   "cell_type": "code",
   "execution_count": 35,
   "metadata": {},
   "outputs": [
    {
     "data": {
      "text/plain": [
       "-10.0000000000000*x*y"
      ]
     },
     "execution_count": 35,
     "metadata": {},
     "output_type": "execute_result"
    }
   ],
   "source": [
    "a = 3*x+y\n",
    "b = x-3*y\n",
    "a*b"
   ]
  },
  {
   "cell_type": "code",
   "execution_count": 36,
   "metadata": {},
   "outputs": [
    {
     "data": {
      "text/plain": [
       "(0, 0, 0, -10)"
      ]
     },
     "execution_count": 36,
     "metadata": {},
     "output_type": "execute_result"
    }
   ],
   "source": [
    "a = vector((0,3,1,0))\n",
    "b = vector((0,1,-3,0))\n",
    "Clifford_2(a,b)"
   ]
  },
  {
   "cell_type": "markdown",
   "metadata": {},
   "source": [
    "Perfecto, son iguales."
   ]
  },
  {
   "cell_type": "markdown",
   "metadata": {},
   "source": [
    "**Álgera de Clifford de orden 3 (dimensión 8)**"
   ]
  },
  {
   "cell_type": "code",
   "execution_count": 37,
   "metadata": {},
   "outputs": [],
   "source": [
    "# Álgebra de Clifford con {e1,e2,e3}, de dimensión 8\n",
    "def Clifford_3(a, b):\n",
    "    return(vector((\n",
    "        a[0]*b[0]+a[1]*b[1]+a[2]*b[2]+a[3]*b[3]-a[4]*b[4]-a[5]*b[5]-a[6]*b[6]-a[7]*b[7], # 1\n",
    "        a[0]*b[1]+a[1]*b[0]-a[2]*b[4]-a[3]*b[5]+a[4]*b[2]+a[5]*b[3]-a[6]*b[7]-a[7]*b[6], # e1\n",
    "        a[0]*b[2]+a[1]*b[4]+a[2]*b[0]-a[3]*b[6]-a[4]*b[1]+a[5]*b[7]+a[6]*b[3]+a[7]*b[2], # e2\n",
    "        a[0]*b[3]+a[1]*b[5]+a[2]*b[6]+a[3]*b[0]-a[4]*b[7]-a[5]*b[1]-a[6]*b[2]-a[7]*b[4], # e3\n",
    "        a[0]*b[4]+a[1]*b[2]-a[2]*b[1]+a[3]*b[7]+a[4]*b[0]-a[5]*b[6]+a[6]*b[5]+a[7]*b[3], # e12\n",
    "        a[0]*b[5]+a[1]*b[3]-a[2]*b[7]-a[3]*b[1]+a[4]*b[6]+a[5]*b[0]-a[6]*b[4]-a[7]*b[2], # e13\n",
    "        a[0]*b[6]+a[1]*b[7]+a[2]*b[3]-a[3]*b[2]-a[4]*b[5]+a[5]*b[4]+a[6]*b[0]+a[7]*b[1], # e23\n",
    "        a[0]*b[7]+a[1]*b[6]-a[2]*b[5]+a[3]*b[4]+a[4]*b[3]-a[5]*b[2]+a[6]*b[1]+a[7]*b[0]  # e123\n",
    "    )))"
   ]
  },
  {
   "cell_type": "code",
   "execution_count": 38,
   "metadata": {},
   "outputs": [
    {
     "data": {
      "text/plain": [
       "The Clifford algebra of the Quadratic form in 3 variables over Real Field with 53 bits of precision with coefficients: \n",
       "[ 0.000000000000000 0.000000000000000 0.000000000000000 ]\n",
       "[ * 0.000000000000000 0.000000000000000 ]\n",
       "[ * * 0.000000000000000 ]"
      ]
     },
     "execution_count": 38,
     "metadata": {},
     "output_type": "execute_result"
    }
   ],
   "source": [
    "Q = QuadraticForm(RR, 3)\n",
    "Cl.<x,y,z> = CliffordAlgebra(Q)\n",
    "Cl"
   ]
  },
  {
   "cell_type": "code",
   "execution_count": 39,
   "metadata": {},
   "outputs": [
    {
     "data": {
      "text/plain": [
       "Finite family {'x': 1.00000000000000*x, 'y': 1.00000000000000*y, 'z': 1.00000000000000*z}"
      ]
     },
     "execution_count": 39,
     "metadata": {},
     "output_type": "execute_result"
    }
   ],
   "source": [
    "Cl.algebra_generators()"
   ]
  },
  {
   "cell_type": "code",
   "execution_count": 40,
   "metadata": {},
   "outputs": [
    {
     "data": {
      "text/plain": [
       "(1.00000000000000,\n",
       " 1.00000000000000*x*y,\n",
       " 1.00000000000000*x*z,\n",
       " 1.00000000000000*y*z,\n",
       " 1.00000000000000*x*y*z)"
      ]
     },
     "execution_count": 40,
     "metadata": {},
     "output_type": "execute_result"
    }
   ],
   "source": [
    "Cl.center_basis()"
   ]
  },
  {
   "cell_type": "code",
   "execution_count": 41,
   "metadata": {},
   "outputs": [
    {
     "data": {
      "text/plain": [
       "8"
      ]
     },
     "execution_count": 41,
     "metadata": {},
     "output_type": "execute_result"
    }
   ],
   "source": [
    "Cl.dimension()"
   ]
  },
  {
   "cell_type": "markdown",
   "metadata": {},
   "source": [
    "Definidas ambas álgebras de Clifford comprobemos si son iguales.\n",
    "Los elementos de las mismas los he de definir de forma diferente."
   ]
  },
  {
   "cell_type": "code",
   "execution_count": 42,
   "metadata": {},
   "outputs": [
    {
     "data": {
      "text/plain": [
       "-10.0000000000000*x*y - 5.00000000000000*x*z + 5.00000000000000*y*z + 3.00000000000000*x + 1.00000000000000*y + 2.00000000000000*z"
      ]
     },
     "execution_count": 42,
     "metadata": {},
     "output_type": "execute_result"
    }
   ],
   "source": [
    "a = 3*x+y+2*z\n",
    "b = 1+x-3*y-z\n",
    "a*b"
   ]
  },
  {
   "cell_type": "code",
   "execution_count": 43,
   "metadata": {},
   "outputs": [
    {
     "data": {
      "text/plain": [
       "(-2, 3, 1, 2, -10, -5, 5, 0)"
      ]
     },
     "execution_count": 43,
     "metadata": {},
     "output_type": "execute_result"
    }
   ],
   "source": [
    "a = vector((0,3,1,2,0,0,0,0))\n",
    "b = vector((1,1,-3,-1,0,0,0,0))\n",
    "Clifford_3(a,b)"
   ]
  },
  {
   "cell_type": "markdown",
   "metadata": {},
   "source": [
    "Perfecto, son iguales."
   ]
  },
  {
   "cell_type": "markdown",
   "metadata": {},
   "source": [
    "### Ejercicio 3.11\n",
    "\n",
    "Calcula el punto simétrico al punto $(1,2,0)$ respecto al plano ortogonal al vector $u = (2,-1,1)$. Observad que $u$ no es unitario."
   ]
  },
  {
   "cell_type": "code",
   "execution_count": 44,
   "metadata": {},
   "outputs": [
    {
     "data": {
      "text/plain": [
       "(1/3*sqrt(6), -1/6*sqrt(6), 1/6*sqrt(6))"
      ]
     },
     "execution_count": 44,
     "metadata": {},
     "output_type": "execute_result"
    }
   ],
   "source": [
    "u=vector((2,-1,1))\n",
    "u=1/u.norm()*u\n",
    "u"
   ]
  },
  {
   "cell_type": "code",
   "execution_count": 45,
   "metadata": {},
   "outputs": [
    {
     "data": {
      "text/plain": [
       "(1, 2, 0)"
      ]
     },
     "execution_count": 45,
     "metadata": {},
     "output_type": "execute_result"
    }
   ],
   "source": [
    "v=vector((1,2,0))\n",
    "v"
   ]
  },
  {
   "cell_type": "markdown",
   "metadata": {},
   "source": [
    "Defino estos elementos como elementos del álgebra de Clifford mediante los generadores del álgebra $e_1$, $e_2$ y $e_3$ correspondientes a $x$, $y$ y $z$. Como las álgebras de Clifford implementadas por mí y la de SAGE son idénticas uso por comodidad la de SAGE."
   ]
  },
  {
   "cell_type": "code",
   "execution_count": 46,
   "metadata": {},
   "outputs": [
    {
     "data": {
      "text/plain": [
       "0.816496580927726*x - 0.408248290463863*y + 0.408248290463863*z"
      ]
     },
     "execution_count": 46,
     "metadata": {},
     "output_type": "execute_result"
    }
   ],
   "source": [
    "u_Cl = (RR(u[0])*x+RR(u[1])*y+RR(u[2])*z)\n",
    "u_Cl"
   ]
  },
  {
   "cell_type": "code",
   "execution_count": 47,
   "metadata": {},
   "outputs": [
    {
     "data": {
      "text/plain": [
       "1.00000000000000*x + 2.00000000000000*y"
      ]
     },
     "execution_count": 47,
     "metadata": {},
     "output_type": "execute_result"
    }
   ],
   "source": [
    "v_Cl = (RR(v[0])*x+RR(v[1])*y+RR(v[2])*z)\n",
    "v_Cl"
   ]
  },
  {
   "cell_type": "code",
   "execution_count": 48,
   "metadata": {},
   "outputs": [
    {
     "data": {
      "text/plain": [
       "1.11022302462516e-16*x*y*z"
      ]
     },
     "execution_count": 48,
     "metadata": {},
     "output_type": "execute_result"
    }
   ],
   "source": [
    "(-u_Cl)*v*u_Cl"
   ]
  },
  {
   "cell_type": "markdown",
   "metadata": {},
   "source": [
    "### Ejercicio 3.12\n",
    "\n",
    "Encuentra el punto obtenido a partir de $w = (0,1,0)$ al componer las simetrías respecto a los planos ortogonales a los vectores $(1,1,1)$ y $(0,1,1)$. ¿Qué ángulo ha rotado?"
   ]
  },
  {
   "cell_type": "code",
   "execution_count": 49,
   "metadata": {},
   "outputs": [
    {
     "data": {
      "text/plain": [
       "(1/3*sqrt(3), 1/3*sqrt(3), 1/3*sqrt(3))"
      ]
     },
     "execution_count": 49,
     "metadata": {},
     "output_type": "execute_result"
    }
   ],
   "source": [
    "u=vector((1,1,1))\n",
    "u=1/u.norm()*u\n",
    "u"
   ]
  },
  {
   "cell_type": "code",
   "execution_count": 50,
   "metadata": {},
   "outputs": [
    {
     "data": {
      "text/plain": [
       "0.577350269189626*x + 0.577350269189626*y + 0.577350269189626*z"
      ]
     },
     "execution_count": 50,
     "metadata": {},
     "output_type": "execute_result"
    }
   ],
   "source": [
    "u_Cl = (RR(u[0])*x+RR(u[1])*y+RR(u[2])*z)\n",
    "u_Cl"
   ]
  },
  {
   "cell_type": "code",
   "execution_count": 51,
   "metadata": {},
   "outputs": [
    {
     "data": {
      "text/plain": [
       "(0, 1/2*sqrt(2), 1/2*sqrt(2))"
      ]
     },
     "execution_count": 51,
     "metadata": {},
     "output_type": "execute_result"
    }
   ],
   "source": [
    "v=vector((0,1,1))\n",
    "v=1/v.norm()*v\n",
    "v"
   ]
  },
  {
   "cell_type": "code",
   "execution_count": 52,
   "metadata": {},
   "outputs": [
    {
     "data": {
      "text/plain": [
       "0.707106781186548*y + 0.707106781186548*z"
      ]
     },
     "execution_count": 52,
     "metadata": {},
     "output_type": "execute_result"
    }
   ],
   "source": [
    "v_Cl = (RR(v[0])*x+RR(v[1])*y+RR(v[2])*z)\n",
    "v_Cl"
   ]
  },
  {
   "cell_type": "code",
   "execution_count": 53,
   "metadata": {},
   "outputs": [
    {
     "data": {
      "text/plain": [
       "(0, 1, 0)"
      ]
     },
     "execution_count": 53,
     "metadata": {},
     "output_type": "execute_result"
    }
   ],
   "source": [
    "w=vector((0,1,0))\n",
    "w"
   ]
  },
  {
   "cell_type": "code",
   "execution_count": 54,
   "metadata": {},
   "outputs": [
    {
     "data": {
      "text/plain": [
       "1.00000000000000*y"
      ]
     },
     "execution_count": 54,
     "metadata": {},
     "output_type": "execute_result"
    }
   ],
   "source": [
    "w_Cl = (RR(w[0])*x+RR(w[1])*y+RR(w[2])*z)\n",
    "w_Cl"
   ]
  },
  {
   "cell_type": "code",
   "execution_count": 55,
   "metadata": {},
   "outputs": [
    {
     "data": {
      "text/plain": [
       "0"
      ]
     },
     "execution_count": 55,
     "metadata": {},
     "output_type": "execute_result"
    }
   ],
   "source": [
    "(u_Cl*v_Cl)*w*(u_Cl*v_Cl)"
   ]
  },
  {
   "cell_type": "markdown",
   "metadata": {},
   "source": [
    "Ya sabemos cuál es el punto resultante. Para saber el ángulo de giro hemos de resolver $uv = cos(\\theta)-Bsen(\\theta)$"
   ]
  },
  {
   "cell_type": "code",
   "execution_count": 56,
   "metadata": {},
   "outputs": [
    {
     "data": {
      "text/plain": [
       "0.408248290463863*x*y + 0.408248290463863*x*z"
      ]
     },
     "execution_count": 56,
     "metadata": {},
     "output_type": "execute_result"
    }
   ],
   "source": [
    "uv_Cl = u_Cl*v_Cl\n",
    "uv_Cl"
   ]
  },
  {
   "cell_type": "markdown",
   "metadata": {},
   "source": [
    "B es el bivector que definen u y v, es decir, el área del paralelogramo que definen"
   ]
  },
  {
   "cell_type": "code",
   "execution_count": 57,
   "metadata": {},
   "outputs": [
    {
     "data": {
      "text/plain": [
       "(0, -1/6*sqrt(3)*sqrt(2), 1/6*sqrt(3)*sqrt(2))"
      ]
     },
     "execution_count": 57,
     "metadata": {},
     "output_type": "execute_result"
    }
   ],
   "source": [
    "B = u.cross_product(v)\n",
    "B"
   ]
  },
  {
   "cell_type": "code",
   "execution_count": 58,
   "metadata": {},
   "outputs": [
    {
     "data": {
      "text/plain": [
       "-0.408248290463863*y + 0.408248290463863*z"
      ]
     },
     "execution_count": 58,
     "metadata": {},
     "output_type": "execute_result"
    }
   ],
   "source": [
    "RR(B[0])*x+RR(B[1])*y+RR(B[2])*z"
   ]
  },
  {
   "cell_type": "markdown",
   "metadata": {},
   "source": [
    "### Ejercicio 3.13\n",
    "\n",
    "Encuentra una rotación que lleva la dirección del vector $a = (-2,2,1)$ en la dirección de $b = (1,2,0)$. ¿Cuál es el ángulo de rotación?"
   ]
  },
  {
   "cell_type": "code",
   "execution_count": 59,
   "metadata": {},
   "outputs": [
    {
     "data": {
      "text/plain": [
       "(-2/3, 2/3, 1/3)"
      ]
     },
     "execution_count": 59,
     "metadata": {},
     "output_type": "execute_result"
    }
   ],
   "source": [
    "a=vector((-2,2,1))\n",
    "a=1/a.norm()*a\n",
    "a"
   ]
  },
  {
   "cell_type": "code",
   "execution_count": 60,
   "metadata": {},
   "outputs": [
    {
     "data": {
      "text/plain": [
       "-0.666666666666667*x + 0.666666666666667*y + 0.333333333333333*z"
      ]
     },
     "execution_count": 60,
     "metadata": {},
     "output_type": "execute_result"
    }
   ],
   "source": [
    "a_Cl = (RR(a[0])*x+RR(a[1])*y+RR(a[2])*z)\n",
    "a_Cl"
   ]
  },
  {
   "cell_type": "code",
   "execution_count": 61,
   "metadata": {},
   "outputs": [
    {
     "data": {
      "text/plain": [
       "(1/5*sqrt(5), 2/5*sqrt(5), 0)"
      ]
     },
     "execution_count": 61,
     "metadata": {},
     "output_type": "execute_result"
    }
   ],
   "source": [
    "b=vector((1,2,0))\n",
    "b=1/b.norm()*b\n",
    "b"
   ]
  },
  {
   "cell_type": "code",
   "execution_count": 62,
   "metadata": {},
   "outputs": [
    {
     "data": {
      "text/plain": [
       "0.447213595499958*x + 0.894427190999916*y"
      ]
     },
     "execution_count": 62,
     "metadata": {},
     "output_type": "execute_result"
    }
   ],
   "source": [
    "b_Cl = (RR(b[0])*x+RR(b[1])*y+RR(b[2])*z)\n",
    "b_Cl"
   ]
  },
  {
   "cell_type": "markdown",
   "metadata": {},
   "source": [
    "Recalcar la importancia de que a y b sean unitarios."
   ]
  },
  {
   "cell_type": "code",
   "execution_count": 63,
   "metadata": {},
   "outputs": [
    {
     "data": {
      "text/plain": [
       "1/15*(2*sqrt(5) + 15)/sqrt(4/15*sqrt(5) + 2)"
      ]
     },
     "execution_count": 63,
     "metadata": {},
     "output_type": "execute_result"
    }
   ],
   "source": [
    "R=(1+b*a)/sqrt(2*(1+b*a))\n",
    "R"
   ]
  },
  {
   "cell_type": "code",
   "execution_count": 64,
   "metadata": {},
   "outputs": [],
   "source": [
    "#R_Cl=(1+b_Cl*a_Cl)/sqrt(2*(1+b_Cl*a_Cl))"
   ]
  },
  {
   "cell_type": "markdown",
   "metadata": {},
   "source": [
    "Tenemos $R=\\exp(-B\\theta)$ y $R=\\frac{(1+ba)}{2(1+ba)}$. No tengo claro cómo seguir."
   ]
  }
 ],
 "metadata": {
  "kernelspec": {
   "display_name": "SageMath 9.2",
   "language": "sage",
   "name": "sagemath"
  },
  "language_info": {
   "codemirror_mode": {
    "name": "ipython",
    "version": 3
   },
   "file_extension": ".py",
   "mimetype": "text/x-python",
   "name": "python",
   "nbconvert_exporter": "python",
   "pygments_lexer": "ipython3",
   "version": "3.7.7"
  }
 },
 "nbformat": 4,
 "nbformat_minor": 4
}
