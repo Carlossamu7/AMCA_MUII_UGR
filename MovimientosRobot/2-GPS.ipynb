{
 "cells": [
  {
   "cell_type": "markdown",
   "metadata": {},
   "source": [
    "## AMCA - GPS (Carlos Sánchez Muñoz)"
   ]
  },
  {
   "cell_type": "code",
   "execution_count": null,
   "metadata": {},
   "outputs": [],
   "source": [
    "from sage.rings.polynomial.toy_buchberger import *"
   ]
  },
  {
   "cell_type": "code",
   "execution_count": null,
   "metadata": {},
   "outputs": [],
   "source": [
    "# Anillo de polinomios\n",
    "R.<x,y,z,d> = PolynomialRing(QQ,order=\"deglex\")\n",
    "R"
   ]
  },
  {
   "cell_type": "code",
   "execution_count": null,
   "metadata": {},
   "outputs": [],
   "source": [
    "radioMarte = 3390\n",
    "rT = radioMarte\n",
    "light = 300000"
   ]
  },
  {
   "cell_type": "markdown",
   "metadata": {},
   "source": [
    "### Posiciones de los satélites"
   ]
  },
  {
   "cell_type": "code",
   "execution_count": null,
   "metadata": {},
   "outputs": [],
   "source": [
    "# Posición satélite 1\n",
    "s1= [QQ(-0.911806764729983), QQ(-0.417289265720297), QQ(15210)]\n",
    "s1"
   ]
  },
  {
   "cell_type": "code",
   "execution_count": null,
   "metadata": {},
   "outputs": [],
   "source": [
    "# Posición satélite 2\n",
    "s2 = [QQ(0.859757093572771), QQ(1.25447274542904), QQ(14990)]\n",
    "s2"
   ]
  },
  {
   "cell_type": "code",
   "execution_count": null,
   "metadata": {},
   "outputs": [],
   "source": [
    "# Posición satélite 3\n",
    "s3 = [QQ(1.38890918090865), QQ(-0.882203628521005), QQ(15705)]\n",
    "s3"
   ]
  },
  {
   "cell_type": "code",
   "execution_count": null,
   "metadata": {},
   "outputs": [],
   "source": [
    "# Posición satélite 4\n",
    "s4 = [QQ(1.50652709540972), QQ(-0.0915183844801210), QQ(16010)]\n",
    "s4"
   ]
  },
  {
   "cell_type": "markdown",
   "metadata": {},
   "source": [
    "### Tiempos de los satélites"
   ]
  },
  {
   "cell_type": "code",
   "execution_count": null,
   "metadata": {},
   "outputs": [],
   "source": [
    "t1 = 19637653776850532119/11049038544149100000\n",
    "t2 = 4057372062300127979/2296106766140880000\n",
    "t3 = 154145659959040963/86314022908256000\n",
    "t4 = 1889681623731860257/1061362804525650000\n",
    "t1, t2, t3, t4"
   ]
  },
  {
   "cell_type": "markdown",
   "metadata": {},
   "source": [
    "### Polinomios que describen cada satélite"
   ]
  },
  {
   "cell_type": "code",
   "execution_count": null,
   "metadata": {},
   "outputs": [],
   "source": [
    "p1 = R((x-s1[0])^2 + (y - s1[1])^2 + (z-s1[2])^2 - (light*(t1+d))^2)\n",
    "p2 = R((x-s2[0])^2 + (y - s2[1])^2 + (z-s2[2])^2 - (light*(t2+d))^2)\n",
    "p3 = R((x-s3[0])^2 + (y - s3[1])^2 + (z-s3[2])^2 - (light*(t3+d))^2)\n",
    "p4 = R((x-s4[0])^2 + (y - s4[1])^2 + (z-s4[2])^2 - (light*(t4+d))^2)\n",
    "p1, p2, p3, p4"
   ]
  },
  {
   "cell_type": "code",
   "execution_count": null,
   "metadata": {
    "scrolled": true
   },
   "outputs": [],
   "source": [
    "data = ideal(p1,p2,p3,p4)\n",
    "position = data.groebner_basis(algorithm='libsingular:std')\n",
    "position"
   ]
  },
  {
   "cell_type": "code",
   "execution_count": null,
   "metadata": {},
   "outputs": [],
   "source": [
    "aa, bb, cc = position[0].coefficients()"
   ]
  },
  {
   "cell_type": "code",
   "execution_count": null,
   "metadata": {},
   "outputs": [],
   "source": [
    "bb^2-4*aa*cc"
   ]
  },
  {
   "cell_type": "markdown",
   "metadata": {},
   "source": [
    "**Error: no hay solución real para el discriminante**"
   ]
  },
  {
   "cell_type": "code",
   "execution_count": null,
   "metadata": {},
   "outputs": [],
   "source": [
    "#discrim = QQ(RR(sqrt(bb^2 - 4*aa*cc)))\n",
    "#discrim\n",
    "discrim = CC(sqrt(bb^2 - 4*aa*cc))\n",
    "discrim"
   ]
  },
  {
   "cell_type": "code",
   "execution_count": null,
   "metadata": {},
   "outputs": [],
   "source": [
    "#estimated_delay = RR((-bb + discrim)/2)\n",
    "estimated_delay = QQ(1.716823681)\n",
    "xcar = -position[1].coefficients()[1]*estimated_delay - position[1].coefficients()[2]\n",
    "ycar = -position[2].coefficients()[1]*estimated_delay - position[2].coefficients()[2]\n",
    "zcar = -position[3].coefficients()[1]*estimated_delay - position[3].coefficients()[2]"
   ]
  },
  {
   "cell_type": "code",
   "execution_count": null,
   "metadata": {},
   "outputs": [],
   "source": [
    "xcar, ycar, zcar"
   ]
  },
  {
   "cell_type": "markdown",
   "metadata": {},
   "source": [
    "Comprobamos la distancia al centro de la esfera, la cual debería ser similar al radio"
   ]
  },
  {
   "cell_type": "code",
   "execution_count": null,
   "metadata": {},
   "outputs": [],
   "source": [
    "RR(sqrt(xcar^2 + ycar^2 + zcar^2))"
   ]
  },
  {
   "cell_type": "code",
   "execution_count": null,
   "metadata": {},
   "outputs": [],
   "source": [
    "estimated_delay = RR((-bb - discrim)/2)\n",
    "xcar = -position[1].coefficients()[1]*estimated_delay - position[1].coefficients()[2]\n",
    "ycar = -position[2].coefficients()[1]*estimated_delay - position[2].coefficients()[2]\n",
    "zcar = -position[3].coefficients()[1]*estimated_delay - position[3].coefficients()[2]"
   ]
  },
  {
   "cell_type": "code",
   "execution_count": null,
   "metadata": {},
   "outputs": [],
   "source": [
    "xcar, ycar, zcar"
   ]
  },
  {
   "cell_type": "code",
   "execution_count": null,
   "metadata": {},
   "outputs": [],
   "source": [
    "RR(sqrt(xcar^2 + ycar^2 + zcar^2))"
   ]
  }
 ],
 "metadata": {
  "kernelspec": {
   "display_name": "SageMath 9.2",
   "language": "sage",
   "name": "sagemath"
  },
  "language_info": {
   "codemirror_mode": {
    "name": "ipython",
    "version": 3
   },
   "file_extension": ".py",
   "mimetype": "text/x-python",
   "name": "python",
   "nbconvert_exporter": "python",
   "pygments_lexer": "ipython3",
   "version": "3.7.7"
  }
 },
 "nbformat": 4,
 "nbformat_minor": 2
}
